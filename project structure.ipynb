{
 "cells": [
  {
   "cell_type": "markdown",
   "metadata": {},
   "source": [
    "# Project:\n",
    "\n",
    "## Map \n",
    "### 1) PLOTTING FRAMEWORK\n",
    "### 2) GUI - GTK (most preferable - PNG images, mb plotly..., \n",
    "### 3) Data storage - temproraty txt/csv file\n",
    "### 4) \n",
    "\n",
    "## Data \n",
    "### a) generation function from the gpx file\n",
    "### b) Online parsing from the site ???\n",
    "## Algorithms:\n",
    "### 1) smoothing (research , l1-filtering(??), Kalman filtering (??), ++)\n",
    "### 2) approximation etc.\n",
    "### 3) missle trajectory algorithms (research...)\n",
    "### 4) "
   ]
  },
  {
   "cell_type": "code",
   "execution_count": null,
   "metadata": {
    "collapsed": true
   },
   "outputs": [],
   "source": []
  },
  {
   "cell_type": "code",
   "execution_count": null,
   "metadata": {
    "collapsed": true
   },
   "outputs": [],
   "source": []
  },
  {
   "cell_type": "code",
   "execution_count": null,
   "metadata": {
    "collapsed": true
   },
   "outputs": [],
   "source": []
  },
  {
   "cell_type": "markdown",
   "metadata": {},
   "source": [
    "# Map"
   ]
  },
  {
   "cell_type": "code",
   "execution_count": 1,
   "metadata": {
    "collapsed": true
   },
   "outputs": [],
   "source": [
    "import numpy as np\n",
    "import matplotlib.pyplot as plt\n",
    "import scipy.interpolate as interp"
   ]
  },
  {
   "cell_type": "code",
   "execution_count": 1,
   "metadata": {},
   "outputs": [
    {
     "ename": "ImportError",
     "evalue": "No module named basemap",
     "output_type": "error",
     "traceback": [
      "\u001b[0;31m---------------------------------------------------------------------------\u001b[0m",
      "\u001b[0;31mImportError\u001b[0m                               Traceback (most recent call last)",
      "\u001b[0;32m<ipython-input-1-93263b51f630>\u001b[0m in \u001b[0;36m<module>\u001b[0;34m()\u001b[0m\n\u001b[0;32m----> 1\u001b[0;31m \u001b[0mget_ipython\u001b[0m\u001b[0;34m(\u001b[0m\u001b[0;34m)\u001b[0m\u001b[0;34m.\u001b[0m\u001b[0mrun_cell_magic\u001b[0m\u001b[0;34m(\u001b[0m\u001b[0;34mu'time'\u001b[0m\u001b[0;34m,\u001b[0m \u001b[0;34mu''\u001b[0m\u001b[0;34m,\u001b[0m \u001b[0;34mu\"from mpl_toolkits.basemap import Basemap\\nimport numpy as np\\nimport matplotlib.pyplot as plt\\nimport scipy.interpolate as interp\\n\\n# create new figure, axes instances.\\nfig=plt.figure()\\nax=fig.add_axes([0.1,0.1,0.8,0.8])\\n# setup mercator map projection.\\nm = Basemap(llcrnrlon=-100.,llcrnrlat=20.,urcrnrlon=20.,urcrnrlat=60.,\\\\\\n            rsphere=(6378137.00,6356752.3142),\\\\\\n            resolution='l',projection='merc',\\\\\\n            lat_0=40.,lon_0=-20.,lat_ts=20.)\\n# nylat, nylon are lat/lon of New York\\nnylat = 40.78; nylon = -73.98\\n# lonlat, lonlon are lat/lon of London.\\nlonlat = 51.53; lonlon = 0.08\\n# draw great circle route between NY and London\\nm.drawgreatcircle(nylon,nylat,lonlon,lonlat,linewidth=2,color='b')\\nm.drawcoastlines()\\nm.fillcontinents()\\n# draw parallels\\nm.drawparallels(np.arange(10,90,20),labels=[1,1,0,1])\\n# draw meridians\\nm.drawmeridians(np.arange(-180,180,30),labels=[1,1,0,1])\\nax.set_title('Great Circle from New York to London')\\nplt.show()\"\u001b[0m\u001b[0;34m)\u001b[0m\u001b[0;34m\u001b[0m\u001b[0m\n\u001b[0m",
      "\u001b[0;32m/usr/local/lib/python2.7/dist-packages/IPython/core/interactiveshell.pyc\u001b[0m in \u001b[0;36mrun_cell_magic\u001b[0;34m(self, magic_name, line, cell)\u001b[0m\n\u001b[1;32m   2115\u001b[0m             \u001b[0mmagic_arg_s\u001b[0m \u001b[0;34m=\u001b[0m \u001b[0mself\u001b[0m\u001b[0;34m.\u001b[0m\u001b[0mvar_expand\u001b[0m\u001b[0;34m(\u001b[0m\u001b[0mline\u001b[0m\u001b[0;34m,\u001b[0m \u001b[0mstack_depth\u001b[0m\u001b[0;34m)\u001b[0m\u001b[0;34m\u001b[0m\u001b[0m\n\u001b[1;32m   2116\u001b[0m             \u001b[0;32mwith\u001b[0m \u001b[0mself\u001b[0m\u001b[0;34m.\u001b[0m\u001b[0mbuiltin_trap\u001b[0m\u001b[0;34m:\u001b[0m\u001b[0;34m\u001b[0m\u001b[0m\n\u001b[0;32m-> 2117\u001b[0;31m                 \u001b[0mresult\u001b[0m \u001b[0;34m=\u001b[0m \u001b[0mfn\u001b[0m\u001b[0;34m(\u001b[0m\u001b[0mmagic_arg_s\u001b[0m\u001b[0;34m,\u001b[0m \u001b[0mcell\u001b[0m\u001b[0;34m)\u001b[0m\u001b[0;34m\u001b[0m\u001b[0m\n\u001b[0m\u001b[1;32m   2118\u001b[0m             \u001b[0;32mreturn\u001b[0m \u001b[0mresult\u001b[0m\u001b[0;34m\u001b[0m\u001b[0m\n\u001b[1;32m   2119\u001b[0m \u001b[0;34m\u001b[0m\u001b[0m\n",
      "\u001b[0;32m<decorator-gen-60>\u001b[0m in \u001b[0;36mtime\u001b[0;34m(self, line, cell, local_ns)\u001b[0m\n",
      "\u001b[0;32m/usr/local/lib/python2.7/dist-packages/IPython/core/magic.pyc\u001b[0m in \u001b[0;36m<lambda>\u001b[0;34m(f, *a, **k)\u001b[0m\n\u001b[1;32m    186\u001b[0m     \u001b[0;31m# but it's overkill for just that one bit of state.\u001b[0m\u001b[0;34m\u001b[0m\u001b[0;34m\u001b[0m\u001b[0m\n\u001b[1;32m    187\u001b[0m     \u001b[0;32mdef\u001b[0m \u001b[0mmagic_deco\u001b[0m\u001b[0;34m(\u001b[0m\u001b[0marg\u001b[0m\u001b[0;34m)\u001b[0m\u001b[0;34m:\u001b[0m\u001b[0;34m\u001b[0m\u001b[0m\n\u001b[0;32m--> 188\u001b[0;31m         \u001b[0mcall\u001b[0m \u001b[0;34m=\u001b[0m \u001b[0;32mlambda\u001b[0m \u001b[0mf\u001b[0m\u001b[0;34m,\u001b[0m \u001b[0;34m*\u001b[0m\u001b[0ma\u001b[0m\u001b[0;34m,\u001b[0m \u001b[0;34m**\u001b[0m\u001b[0mk\u001b[0m\u001b[0;34m:\u001b[0m \u001b[0mf\u001b[0m\u001b[0;34m(\u001b[0m\u001b[0;34m*\u001b[0m\u001b[0ma\u001b[0m\u001b[0;34m,\u001b[0m \u001b[0;34m**\u001b[0m\u001b[0mk\u001b[0m\u001b[0;34m)\u001b[0m\u001b[0;34m\u001b[0m\u001b[0m\n\u001b[0m\u001b[1;32m    189\u001b[0m \u001b[0;34m\u001b[0m\u001b[0m\n\u001b[1;32m    190\u001b[0m         \u001b[0;32mif\u001b[0m \u001b[0mcallable\u001b[0m\u001b[0;34m(\u001b[0m\u001b[0marg\u001b[0m\u001b[0;34m)\u001b[0m\u001b[0;34m:\u001b[0m\u001b[0;34m\u001b[0m\u001b[0m\n",
      "\u001b[0;32m/usr/local/lib/python2.7/dist-packages/IPython/core/magics/execution.pyc\u001b[0m in \u001b[0;36mtime\u001b[0;34m(self, line, cell, local_ns)\u001b[0m\n\u001b[1;32m   1183\u001b[0m         \u001b[0;32melse\u001b[0m\u001b[0;34m:\u001b[0m\u001b[0;34m\u001b[0m\u001b[0m\n\u001b[1;32m   1184\u001b[0m             \u001b[0mst\u001b[0m \u001b[0;34m=\u001b[0m \u001b[0mclock2\u001b[0m\u001b[0;34m(\u001b[0m\u001b[0;34m)\u001b[0m\u001b[0;34m\u001b[0m\u001b[0m\n\u001b[0;32m-> 1185\u001b[0;31m             \u001b[0;32mexec\u001b[0m\u001b[0;34m(\u001b[0m\u001b[0mcode\u001b[0m\u001b[0;34m,\u001b[0m \u001b[0mglob\u001b[0m\u001b[0;34m,\u001b[0m \u001b[0mlocal_ns\u001b[0m\u001b[0;34m)\u001b[0m\u001b[0;34m\u001b[0m\u001b[0m\n\u001b[0m\u001b[1;32m   1186\u001b[0m             \u001b[0mend\u001b[0m \u001b[0;34m=\u001b[0m \u001b[0mclock2\u001b[0m\u001b[0;34m(\u001b[0m\u001b[0;34m)\u001b[0m\u001b[0;34m\u001b[0m\u001b[0m\n\u001b[1;32m   1187\u001b[0m             \u001b[0mout\u001b[0m \u001b[0;34m=\u001b[0m \u001b[0mNone\u001b[0m\u001b[0;34m\u001b[0m\u001b[0m\n",
      "\u001b[0;32m<timed exec>\u001b[0m in \u001b[0;36m<module>\u001b[0;34m()\u001b[0m\n",
      "\u001b[0;31mImportError\u001b[0m: No module named basemap"
     ]
    }
   ],
   "source": [
    "%%time\n",
    "from mpl_toolkits.basemap import Basemap\n",
    "import numpy as np\n",
    "import matplotlib.pyplot as plt\n",
    "import scipy.interpolate as interp\n",
    "\n",
    "# create new figure, axes instances.\n",
    "fig=plt.figure()\n",
    "ax=fig.add_axes([0.1,0.1,0.8,0.8])\n",
    "# setup mercator map projection.\n",
    "m = Basemap(llcrnrlon=-100.,llcrnrlat=20.,urcrnrlon=20.,urcrnrlat=60.,\\\n",
    "            rsphere=(6378137.00,6356752.3142),\\\n",
    "            resolution='l',projection='merc',\\\n",
    "            lat_0=40.,lon_0=-20.,lat_ts=20.)\n",
    "# nylat, nylon are lat/lon of New York\n",
    "nylat = 40.78; nylon = -73.98\n",
    "# lonlat, lonlon are lat/lon of London.\n",
    "lonlat = 51.53; lonlon = 0.08\n",
    "# draw great circle route between NY and London\n",
    "m.drawgreatcircle(nylon,nylat,lonlon,lonlat,linewidth=2,color='b')\n",
    "m.drawcoastlines()\n",
    "m.fillcontinents()\n",
    "# draw parallels\n",
    "m.drawparallels(np.arange(10,90,20),labels=[1,1,0,1])\n",
    "# draw meridians\n",
    "m.drawmeridians(np.arange(-180,180,30),labels=[1,1,0,1])\n",
    "ax.set_title('Great Circle from New York to London')\n",
    "plt.show()"
   ]
  },
  {
   "cell_type": "markdown",
   "metadata": {},
   "source": [
    "# DATA:"
   ]
  },
  {
   "cell_type": "markdown",
   "metadata": {},
   "source": [
    "## a) Загрузка из файла"
   ]
  },
  {
   "cell_type": "code",
   "execution_count": 2,
   "metadata": {
    "collapsed": true
   },
   "outputs": [],
   "source": [
    "import gpxpy\n",
    "import gpxpy.gpx"
   ]
  },
  {
   "cell_type": "code",
   "execution_count": null,
   "metadata": {
    "collapsed": true
   },
   "outputs": [],
   "source": [
    "gpx_file = open('data/gps_test.gpx', 'r')\n",
    "gpx = gpxpy.parse(gpx_file)"
   ]
  },
  {
   "cell_type": "code",
   "execution_count": null,
   "metadata": {
    "collapsed": true
   },
   "outputs": [],
   "source": [
    "for track in gpx.tracks:\n",
    "    for segment in track.segments:\n",
    "        for point in segment.points[:1]:\n",
    "            print('Point at ({0},{1}) -> {2}'.format(point.latitude, point.longitude, point.elevation))"
   ]
  },
  {
   "cell_type": "code",
   "execution_count": 28,
   "metadata": {
    "collapsed": true
   },
   "outputs": [],
   "source": [
    "points_ = segment"
   ]
  },
  {
   "cell_type": "code",
   "execution_count": 26,
   "metadata": {},
   "outputs": [
    {
     "data": {
      "text/plain": [
       "(55.413575, 37.905227, 180.74639972527)"
      ]
     },
     "execution_count": 26,
     "metadata": {},
     "output_type": "execute_result"
    }
   ],
   "source": [
    "point.latitude, point.longitude, point.elevation"
   ]
  },
  {
   "cell_type": "markdown",
   "metadata": {},
   "source": [
    "### Approximation, mathematics etc:"
   ]
  },
  {
   "cell_type": "code",
   "execution_count": 133,
   "metadata": {
    "collapsed": true
   },
   "outputs": [],
   "source": [
    "import numpy as np\n",
    "\n",
    "class Point(object):\n",
    "    \"\"\"\n",
    "    Класс, отвечающий за хранение информации о координатах, скоростях и ускорениях цели в \n",
    "    заданной точке и в заданный момент времени.\n",
    "\n",
    "    Аргументы:\n",
    "        timestamp: str: строка с датой и временем в в одном из используемых форматов даты.\n",
    "        x, y, z: floats:  целые числа или числа с плавающей точкой, отвечающие за \n",
    "        координаты цели в данный момент времени.\n",
    "        v_x, v_y, v_z: floats:  целые числа или числа с плавающей точкой, отвечающие \n",
    "        за скорость цели в данный момент времени.\n",
    "        x,_a a_y, a_z: floats:  целые числа или числа с плавающей точкой, отвечающие \n",
    "        за ускорения цели в данный момент времени.\n",
    "    \"\"\"\n",
    "    def __init__(self, timestamp=np.nan,\n",
    "                 x=np.nan, y=np.nan, z=np.nan, \n",
    "                 v_x=np.nan, v_y=np.nan, v_z=np.nan, \n",
    "                 a_x=np.nan, a_y=np.nan, a_z=np.nan):\n",
    "\n",
    "        # время, в которое цель находилась в точке (x, y, z)\n",
    "        self.timestamp = timestamp\n",
    "        # координаты по трём осям\n",
    "        self.x = x\n",
    "        self.y = y\n",
    "        self.z = z\n",
    "        # скорости\n",
    "        self.v_x = v_x\n",
    "        self.v_y = v_y\n",
    "        self.v_z = v_z\n",
    "        # ускорения\n",
    "        self.a_x = a_x\n",
    "        self.a_y = a_y\n",
    "        self.a_z = a_z\n",
    "        # модуль скорости\n",
    "        self.v = np.sum(np.array([self.v_x, self.v_y, self.v_z]) ** 2)\n",
    "        # модуль ускорения\n",
    "        self.a = np.sum(np.array([self.a_x, self.a_y, self.a_z]) ** 2)\n",
    "        \n",
    "    def set_coordinates(self, timestamp, x, y, z, \n",
    "                        v_x=np.nan, v_y=np.nan, v_z=np.nan, \n",
    "                        a_x=np.nan, a_y=np.nan, a_z=np.nan):\n",
    "        \"\"\"\n",
    "        Добавление координат к инициализированной точке.\n",
    "        Обязательные атрибуты - время и (x, y, z)\n",
    "        \"\"\"\n",
    "        self.timestamps = timestamp\n",
    "        self.x, self.y, self.z = x, y, z\n",
    "        return self\n",
    "    \n",
    "    def set_speed(self, v_x, v_y, v_z):\n",
    "        \"\"\"\n",
    "        Добавление скоростей к инициализированной точке.\n",
    "        Атрибуты - время и скорости по осям (x, y, z)\n",
    "        \"\"\"\n",
    "        self.v_x, self.v_y, self.v_z = v_x, v_y, v_z\n",
    "        # модуль скорости\n",
    "        self.v = np.sum(np.array([self.v_x, self.v_y, self.v_z]) ** 2)\n",
    "        return self\n",
    "                  \n",
    "    def set_acceleration(self, a_x, a_y, a_z):\n",
    "        \"\"\"\n",
    "        Добавление ускорений к инициализированной точке.\n",
    "        Атрибуты - время и ускорения по осям (x, y, z)\n",
    "        \"\"\"\n",
    "        self.a_x, self.a_y, self.a_z = a_x, a_y, a_z\n",
    "        # модуль ускорения\n",
    "        self.a = np.sum(np.array([self.a_x, self.a_y, self.a_z]) ** 2)\n",
    "        return self\n",
    "    \n",
    "    def get_coordinates(self):\n",
    "        \"\"\"\n",
    "        Функция выдаёт координаты в формате (x, y, z)\n",
    "        \"\"\"\n",
    "        return np.array([self.x, self.y, self.z])\n",
    "    \n",
    "    def get_speed(self):\n",
    "        \"\"\"\n",
    "        Функция выдаёт скорость в формате (v_x, v_y, v_z)\n",
    "        \"\"\"\n",
    "        return np.array([self.v_x, self.v_y, self.v_z])\n",
    "    \n",
    "    def get_acceleration(self):\n",
    "        \"\"\"\n",
    "        Функция выдаёт ускорения в формате (a_x, a_y, a_z)\n",
    "        \"\"\"\n",
    "        return np.array([self.a_x, self.a_y, self.a_z])\n",
    "    \n",
    "    def get_speed_value(self):\n",
    "        \"\"\"\n",
    "        Функция модуль скорости\n",
    "        \"\"\"\n",
    "        return self.v\n",
    "    \n",
    "    def get_acceleration_value(self):\n",
    "        \"\"\"\n",
    "        Функция выдаёт модуль ускорения\n",
    "        \"\"\"\n",
    "        return self.a\n",
    "    "
   ]
  },
  {
   "cell_type": "code",
   "execution_count": 134,
   "metadata": {
    "collapsed": true
   },
   "outputs": [],
   "source": [
    "p = Point(\"03.10.2010 20:15\", 10, 15, 30, 10, 15, 30, 10, 15, 30)"
   ]
  },
  {
   "cell_type": "code",
   "execution_count": 135,
   "metadata": {},
   "outputs": [
    {
     "data": {
      "text/plain": [
       "array([10, 15, 30])"
      ]
     },
     "execution_count": 135,
     "metadata": {},
     "output_type": "execute_result"
    }
   ],
   "source": [
    "p.get_coordinates()"
   ]
  },
  {
   "cell_type": "code",
   "execution_count": 86,
   "metadata": {},
   "outputs": [
    {
     "data": {
      "text/plain": [
       "'\\n    Класс, отвечающий за хранение информации о координатах, скоростях и ускорениях цели в \\n    заданной точке и в заданный момент времени.\\n\\n    Аргументы:\\n        timestamp: str: строка с датой и временем в в одном из используемых форматов даты.\\n        x, y, z: floats:  целые числа или числа с плавающей точкой, отвечающие за \\n        координаты цели в данный момент времени.\\n        v_x, v_y, v_z: floats:  целые числа или числа с плавающей точкой, отвечающие \\n        за скорость цели в данный момент времени.\\n        x,_a a_y, a_z: floats:  целые числа или числа с плавающей точкой, отвечающие \\n        за ускорения цели в данный момент времени.\\n    '"
      ]
     },
     "execution_count": 86,
     "metadata": {},
     "output_type": "execute_result"
    }
   ],
   "source": [
    "Point.__doc__"
   ]
  },
  {
   "cell_type": "code",
   "execution_count": null,
   "metadata": {
    "collapsed": true
   },
   "outputs": [],
   "source": []
  },
  {
   "cell_type": "code",
   "execution_count": 97,
   "metadata": {
    "collapsed": true
   },
   "outputs": [],
   "source": [
    "class Trajectory(object):\n",
    "    \"\"\"\n",
    "    1. Метод, который кушает одну приходящую точку (x, y, z, v_x=np.nan, v_y=np.nan, v_z=np.nan, a_x=np.nan, a_y=np.nan, a_z=np.nan), \n",
    "    если тестовый режим работы - зашумляем, если присутствуют только координаты, *считает* скорости, ускорения и сохраняет это в self.x_list, self...\n",
    "    2. Внутренний методы просчёта, фильтрации и аппроксимации траекторий.\n",
    "    3. Метод для тестового зашумления данных и тд\n",
    "    4. \n",
    "    \"\"\" \n",
    "    \n",
    "    def __init__(self, target=\"Target_0\"):\n",
    "        # Название и характеристики цели (на данный момент - строка):\n",
    "        self.target = target\n",
    "        # Координаты, скорости, ускорения и таймстампы точек траектории\n",
    "        self.trajectory = []\n",
    "        # Значения точек траектории, полученные после её обработки одним\n",
    "        # или несколькими последовательно примененными алгоритмами фильтрации\n",
    "        # и интерполяции\n",
    "        self.filtered_trajectory = []\n",
    "        \n",
    "        # математические параметры траектории:\n",
    "        #self.filter_object = # либо рукописный, либо функция из \n",
    "        \n",
    "    \n",
    "    def add_point_by_coordinates(self, timestamp, x, y, z, \n",
    "                                 v_x=np.nan, v_y=np.nan, v_z=np.nan, \n",
    "                                 a_x=np.nan, a_y=np.nan, a_z=np.nan):\n",
    "        \"\"\"\n",
    "        Добавление новой точки по координатам:\n",
    "        \n",
    "        Аргументы:\n",
    "            timestamp: str: время и дата в одном из форматов\n",
    "            x, y, z: float: целые или числа с плавающей точкой - координаты цели...\n",
    "            \n",
    "            \n",
    "            \n",
    "        \"\"\"\n",
    "        self.trajectory.append(Point(timestamp, x, y, z, v_x , v_y, v_z, a_x, a_y, a_z))\n",
    "        return self\n",
    "    \n",
    "    def add_point(self, point):\n",
    "        \"\"\"\n",
    "        Добавление новой точки:\n",
    "        \n",
    "        Аргументы:\n",
    "            point: Point: объект класса Point, \n",
    "        \"\"\"\n",
    "        self.trajectory.append(point)\n",
    "        self._filter_trajectory(filtring_type=\"l1_filtering\")\n",
    "        self._recompute_speed()\n",
    "        self._recompute_accelerations()\n",
    "        return self\n",
    "\n",
    "        \n",
    "#     def add_point_by_coordinates(self, timestamp, x, y, z, \n",
    "#                                  v_x=np.nan, v_y=np.nan, v_z=np.nan, \n",
    "#                                  a_x=np.nan, a_y=np.nan, a_z=np.nan):\n",
    "#         # добавляем пришедшую точку\n",
    "#         self.points.append(point)\n",
    "        \n",
    "#         # если приходило более одной точки мы можем посчитать скорость, если вместо нее пришло np.nan\n",
    "#         if len(self.points) > 1:\n",
    "#             time_delay = self.points[-1].timestamp - self.points[-2].timestamp\n",
    "#             if not self.points[-1].v_x:\n",
    "#                 self.points[-1].v_x = (self.points[-1].x - self.points[-2].x) / time_delay\n",
    "#             if not self.points[-1].v_y:\n",
    "#                 self.points[-1].v_y = (self.points[-1].y - self.points[-2].y) / time_delay\n",
    "#             if not self.points[-1].v_z:\n",
    "#                 self.points[-1].v_z = (self.points[-1].z - self.points[-2].z) / time_delay       \n",
    "            \n",
    "#         # если две последние точки не содержат np.nan в скорости, мы можем посчитать ускорение, если вместо него пришло np.nan\n",
    "#         if not self.points[-1].a_x:\n",
    "            \n",
    "            \n",
    "            \n",
    "#             time_delay = self.points[-1].timestamp - self.points[-2].timestamp\n",
    "            \n",
    "#             self.points[-1].a_x = (self.points[-2].v_x - self.points[-1].v_x) / timestamp\n",
    "            \n",
    "            \n",
    "            \n",
    "        \n",
    "#         if self.points[-1].:\n",
    "#             time_delay = self.points[-1].timestamp - self.points[-2].timestamp\n",
    "#             if not self.points[-1].v_x:\n",
    "#                 self.points[-1].v_x = (self.points[-1].x - self.points[-2].x) / time_delay\n",
    "#             if not self.points[-1].v_y:\n",
    "#                 self.points[-1].v_y = (self.points[-1].y - self.points[-2].y) / time_delay\n",
    "#             if not self.points[-1].v_z:\n",
    "#                 self.points[-1].v_z = (self.points[-1].z - self.points[-2].z) / time_delay  \n",
    "             \n",
    "#  =========================================== MATH =================\n",
    "        def _filter_trajectory(self, filtring_type=None):\n",
    "            \"\"\"\n",
    "            Фильтрация и сглаживание траектории одним из способов:\n",
    "            \"\"\"\n",
    "#             # на данный момент мы используем траекторию без фильтрации:\n",
    "#             self.filtered_trajectory = self.trajectory\n",
    "            \n",
    "            def savgol(y, window=20, order=5, deriv=0, rate=1):\n",
    "    \n",
    "                from math import factorial\n",
    "\n",
    "                order_range = range(order+1)\n",
    "                half_window = (window - 1) // 2\n",
    "                b = np.mat([[k**i for i in order_range] for k in range(-half_window, half_window+1)])\n",
    "                m = np.linalg.pinv(b).A[deriv] * rate**deriv * factorial(deriv)\n",
    "                firstvals = y[0] - np.abs(y[1:half_window+1][::-1]-y[0])\n",
    "                lastvals = y[-1] + np.abs(y[-half_window-1:-1][::-1]-y[-1])\n",
    "                y = np.concatenate((firstvals,y,lastvals))\n",
    "                return np.convolve(m[::-1],y,mode='valid')\n",
    "            \n",
    "            self.filtered_trajectory = self.trajectory\n",
    "            self.filtered_trajectory[:].x = savgol(self.trajectory[:].x)\n",
    "            self.filtered_trajectory[:].y = savgol(self.trajectory[:].y)\n",
    "            self.filtered_trajectory[:].z = savgol(self.trajectory[:].z) \n",
    "            \n",
    "            return self.filtered_trajectory\n",
    "        \n",
    "        def _recompute_speed(self, ts_window=1):\n",
    "            \"\"\"\n",
    "            Вычисление скоростей через приращение координаты усреднённое в окне\n",
    "            \n",
    "            Аргументы:\n",
    "                ts_window: int: количество точек траектории, взятых для усреднения скорости\n",
    "            \"\"\"\n",
    "            ### TIME_DIFF computation нужно сделать перевод разницы в нормальные единицы\n",
    "            time_diff = self.filtered_trajectory[-1].timestamp -\\\n",
    "                            self.filtered_trajectory[-2].timestamp \n",
    "                \n",
    "            coordinates_diff = self.filtered_trajectory[-1].get_coordinates() -\\\n",
    "                                self.filtered_trajectory[-2].get_coordinates()\n",
    "                \n",
    "            differential_speed = coordinates_diff / time_diff\n",
    "            \n",
    "            self.filtered_trajectory[-1].set_speed(differential_speed[0], \n",
    "                                                   differential_speed[1], \n",
    "                                                   differential_speed[2])\n",
    "        \n",
    "        def _recompute_acceleration(self, ts_window=1):\n",
    "            \"\"\"\n",
    "            Вычисление ускорений через приращение скорости усреднённое в окне\n",
    "            \n",
    "            Аргументы:\n",
    "                TODO:\n",
    "                ts_window: int: количество точек траектории, взятых для усреднения ускорения\n",
    "            \"\"\"\n",
    "            ### TIME_DIFF computation нужно сделать перевод разницы в нормальные единицы\n",
    "            time_diff = self.filtered_trajectory[-1].timestamp -\\\n",
    "                            self.filtered_trajectory[-2].timestamp \n",
    "                \n",
    "            speed_diff = self.filtered_trajectory[-1].get_speed() -\\\n",
    "                                self.filtered_trajectory[-2].get_speed()\n",
    "                \n",
    "            differential_acceleration = speed_diff / time_diff\n",
    "            \n",
    "#             self.filtered_trajectory[-1].set_acceleration(differential_acceleration[0], \n",
    "#                                                           differential_acceleration[1], \n",
    "#                                                           differential_acceleration[2])\n",
    "            self.filtered_trajectory[-1].set_acceleration(*list(differential_acceleration))"
   ]
  },
  {
   "cell_type": "code",
   "execution_count": 532,
   "metadata": {},
   "outputs": [],
   "source": [
    "class Trajectory(object):\n",
    "    \"\"\"\n",
    "    1. Метод, который кушает одну приходящую точку (x, y, z, v_x=np.nan, v_y=np.nan, v_z=np.nan, a_x=np.nan, a_y=np.nan, a_z=np.nan), \n",
    "    если тестовый режим работы - зашумляем, если присутствуют только координаты, *считает* скорости, ускорения и сохраняет это в self.x_list, self...\n",
    "    2. Внутренний методы просчёта, фильтрации и аппроксимации траекторий.\n",
    "    3. Метод для тестового зашумления данных и тд\n",
    "    4. \n",
    "    \"\"\" \n",
    "    \n",
    "    def __init__(self, target=\"Target_0\"):\n",
    "        # Название и характеристики цели (на данный момент - строка):\n",
    "        self.target = target\n",
    "        # Координаты, скорости, ускорения и таймстампы точек траектории\n",
    "        self.trajectory = []\n",
    "        # Значения точек траектории, полученные после её обработки одним\n",
    "        # или несколькими последовательно примененными алгоритмами фильтрации\n",
    "        # и интерполяции\n",
    "        self.filtered_trajectory = []\n",
    "        \n",
    "    \n",
    "    def add_point_by_coordinates(self, timestamp, x, y, z, \n",
    "                                 v_x=np.nan, v_y=np.nan, v_z=np.nan, \n",
    "                                 a_x=np.nan, a_y=np.nan, a_z=np.nan):\n",
    "\n",
    "        self.trajectory.append(Point(timestamp, x, y, z, v_x , v_y, v_z, a_x, a_y, a_z))\n",
    "        return self\n",
    "    \n",
    "    def add_point(self, point):\n",
    "        \"\"\"\n",
    "        Добавление новой точки:\n",
    "        \n",
    "        Аргументы:\n",
    "            point: Point: объект класса Point, \n",
    "        \"\"\"\n",
    "        self.trajectory.append(point)\n",
    "        self._filter_trajectory(filtring_type=\"l1_filtering\")\n",
    "        self._recompute_speed()\n",
    "        self._recompute_accelerations()\n",
    "        return self\n",
    "\n",
    "    def _filter_trajectory(self, filtring_type=None):\n",
    "        \n",
    "        import copy\n",
    "        \"\"\"\n",
    "        Фильтрация и сглаживание траектории одним из способов:\n",
    "        Нужно минимум window точек\n",
    "        \"\"\"\n",
    "#             # на данный момент мы используем траекторию без фильтрации:\n",
    "#             self.filtered_trajectory = self.trajectory\n",
    "\n",
    "        def savgol(arr, window=15, order=5, deriv=0, rate=1):\n",
    "            #window >= order + 2\n",
    "\n",
    "            from math import factorial\n",
    "            \n",
    "            if len(arr) < window:\n",
    "                window = len(arr)\n",
    "                if window < order + 2:\n",
    "                    order = window - 2\n",
    "            \n",
    "            y = np.asarray(arr[:])\n",
    "            order_range = range(order+1)\n",
    "            half_window = (window - 1) // 2\n",
    "            b = np.mat([[k**i for i in order_range] for k in range(-half_window, half_window+1)])\n",
    "            m = np.linalg.pinv(b).A[deriv] * rate**deriv * factorial(deriv)\n",
    "            firstvals = y[0] - np.abs(y[1:half_window+1][::-1]-y[0])\n",
    "            lastvals = y[-1] + np.abs(y[-half_window-1:-1][::-1]-y[-1])\n",
    "            y = np.concatenate((firstvals,y,lastvals))\n",
    "            return np.convolve(m[::-1],y,mode='valid')\n",
    "\n",
    "        self.filtered_trajectory = copy.deepcopy(self.trajectory)\n",
    "        \n",
    "        filtered_coordinate = savgol([self.trajectory[i].x for i in range(len(self.trajectory))])\n",
    "        for i in range(len(self.filtered_trajectory)):\n",
    "            self.filtered_trajectory[i].x = filtered_coordinate[i]       \n",
    "        filtered_coordinate = savgol([self.trajectory[i].y for i in range(len(self.trajectory))])\n",
    "        for i in range(len(self.filtered_trajectory)):\n",
    "            self.filtered_trajectory[i].y = filtered_coordinate[i]\n",
    "        filtered_coordinate = savgol([self.trajectory[i].z for i in range(len(self.trajectory))])\n",
    "        for i in range(len(self.filtered_trajectory)):\n",
    "            self.filtered_trajectory[i].z = filtered_coordinate[i]\n",
    "        \n",
    "        return self.filtered_trajectory\n",
    "        \n"
   ]
  },
  {
   "cell_type": "code",
   "execution_count": 543,
   "metadata": {
    "collapsed": true
   },
   "outputs": [],
   "source": [
    "test = Trajectory()"
   ]
  },
  {
   "cell_type": "code",
   "execution_count": 575,
   "metadata": {
    "collapsed": true
   },
   "outputs": [],
   "source": [
    "sig = 1.3\n",
    "a = 30\n",
    "b = 20\n",
    "trajectory = np.asarray([[i+np.random.randn()/sig,i+np.random.randn()/sig] for i in range(a)]+[[a+i+np.random.randn()/sig,a+np.random.randn()/sig] for i in range(b)]+[[a+b+i+np.random.randn()/sig,a+i+np.random.randn()/sig] for i in range(20)])\n",
    "pure_traj = np.asarray([[i,i] for i in range(a)]+[[a+i,a] for i in range(b)]+[[a+b+i,a+i] for i in range(20)])"
   ]
  },
  {
   "cell_type": "code",
   "execution_count": 576,
   "metadata": {},
   "outputs": [],
   "source": [
    "for i in range(2):\n",
    "    test.add_point_by_coordinates(0.1,trajectory[i][0],trajectory[i][1],0.1)"
   ]
  },
  {
   "cell_type": "code",
   "execution_count": 577,
   "metadata": {},
   "outputs": [
    {
     "data": {
      "text/plain": [
       "4"
      ]
     },
     "execution_count": 577,
     "metadata": {},
     "output_type": "execute_result"
    }
   ],
   "source": [
    "len([test.trajectory[i].x for i in range(len(test.trajectory))])"
   ]
  },
  {
   "cell_type": "code",
   "execution_count": 578,
   "metadata": {
    "scrolled": true
   },
   "outputs": [
    {
     "data": {
      "text/plain": [
       "[0.44795937311873801,\n",
       " 0.97591426687936988,\n",
       " -0.06147491186426509,\n",
       " 0.60055138339131631]"
      ]
     },
     "execution_count": 578,
     "metadata": {},
     "output_type": "execute_result"
    }
   ],
   "source": [
    "[test.trajectory[i].x for i in range(len(test.trajectory))]"
   ]
  },
  {
   "cell_type": "code",
   "execution_count": 579,
   "metadata": {},
   "outputs": [
    {
     "data": {
      "text/plain": [
       "[<__main__.Point at 0x7f98ed099110>,\n",
       " <__main__.Point at 0x7f98ed0ce0d0>,\n",
       " <__main__.Point at 0x7f98ed0ce950>,\n",
       " <__main__.Point at 0x7f98ed0ce250>]"
      ]
     },
     "execution_count": 579,
     "metadata": {},
     "output_type": "execute_result"
    }
   ],
   "source": [
    "test._filter_trajectory()"
   ]
  },
  {
   "cell_type": "code",
   "execution_count": 580,
   "metadata": {},
   "outputs": [
    {
     "data": {
      "image/png": "[encoded data removed]",
      "text/plain": [
       "<matplotlib.figure.Figure at 0x7f98ed195e90>"
      ]
     },
     "metadata": {},
     "output_type": "display_data"
    }
   ],
   "source": [
    "plt.close()\n",
    "plt.plot([test.trajectory[i].x for i in range(len(test.trajectory))],[test.trajectory[i].y for i in range(len(test.trajectory))],'.')\n",
    "plt.plot([test.filtered_trajectory[i].x for i in range(len(test.filtered_trajectory))],[test.filtered_trajectory[i].y for i in range(len(test.filtered_trajectory))])\n",
    "plt.show()"
   ]
  },
  {
   "cell_type": "code",
   "execution_count": 327,
   "metadata": {
    "collapsed": true
   },
   "outputs": [],
   "source": [
    "def savgol(y, window=15, order=5, deriv=0, rate=1):\n",
    "\n",
    "            from math import factorial\n",
    "    \n",
    "            y = np.asarray(y)\n",
    "            order_range = range(order+1)\n",
    "            half_window = (window - 1) // 2\n",
    "            b = np.mat([[k**i for i in order_range] for k in range(-half_window, half_window+1)])\n",
    "            m = np.linalg.pinv(b).A[deriv] * rate**deriv * factorial(deriv)\n",
    "            firstvals = y[0] - np.abs(y[1:half_window+1][::-1]-y[0])\n",
    "            lastvals = y[-1] + np.abs(y[-half_window-1:-1][::-1]-y[-1])\n",
    "            y = np.concatenate((firstvals,y,lastvals))\n",
    "            return np.convolve(m[::-1],y,mode='valid')"
   ]
  },
  {
   "cell_type": "code",
   "execution_count": 2,
   "metadata": {
    "collapsed": true
   },
   "outputs": [],
   "source": [
    "def interpolate_polyline(polyline, num_points):\n",
    "    duplicates = []\n",
    "    for i in range(1, len(polyline)):\n",
    "        if np.allclose(polyline[i], polyline[i-1]):\n",
    "            duplicates.append(i)\n",
    "    if duplicates:\n",
    "        polyline = np.delete(polyline, duplicates, axis=0)\n",
    "    tck, u = interp.splprep(polyline.T, s=0)\n",
    "    u = np.linspace(0.0, 1.0, num_points)\n",
    "    return np.column_stack(interp.splev(u, tck))"
   ]
  },
  {
   "cell_type": "code",
   "execution_count": 8,
   "metadata": {
    "collapsed": true
   },
   "outputs": [],
   "source": [
    "def savgol(y, window, order, deriv=0, rate=1):\n",
    "    \n",
    "    from math import factorial\n",
    "    \n",
    "    order_range = range(order+1)\n",
    "    half_window = (window - 1) // 2\n",
    "    b = np.mat([[k**i for i in order_range] for k in range(-half_window, half_window+1)])\n",
    "    m = np.linalg.pinv(b).A[deriv] * rate**deriv * factorial(deriv)\n",
    "    firstvals = y[0] - np.abs(y[1:half_window+1][::-1]-y[0])\n",
    "    lastvals = y[-1] + np.abs(y[-half_window-1:-1][::-1]-y[-1])\n",
    "    y = np.concatenate((firstvals,y,lastvals))\n",
    "    return np.convolve(m[::-1],y,mode='valid')"
   ]
  },
  {
   "cell_type": "code",
   "execution_count": 124,
   "metadata": {
    "collapsed": true
   },
   "outputs": [],
   "source": [
    "sig = 1.2\n",
    "a = 30\n",
    "b = 20\n",
    "trajectory = np.asarray([[i+np.random.randn()/sig,i+np.random.randn()/sig] for i in range(a)]+[[a+i+np.random.randn()/sig,a+np.random.randn()/sig] for i in range(b)]+[[a+b+i+np.random.randn()/sig,a+i+np.random.randn()/sig] for i in range(20)])\n",
    "pure_traj = np.asarray([[i,i] for i in range(a)]+[[a+i,a] for i in range(b)]+[[a+b+i,a+i] for i in range(20)])"
   ]
  },
  {
   "cell_type": "code",
   "execution_count": 6,
   "metadata": {
    "collapsed": true
   },
   "outputs": [],
   "source": [
    "import scipy.ndimage\n",
    "# from scipy import *"
   ]
  },
  {
   "cell_type": "code",
   "execution_count": 116,
   "metadata": {},
   "outputs": [],
   "source": [
    "trajectory = list(trajectory)\n",
    "for i in range(10):\n",
    "#     del trajectory[10]\n",
    "    del trajectory[20]\n",
    "trajectory = np.asarray(trajectory)"
   ]
  },
  {
   "cell_type": "code",
   "execution_count": 550,
   "metadata": {
    "collapsed": true
   },
   "outputs": [],
   "source": [
    "from scipy.misc import imread\n"
   ]
  },
  {
   "cell_type": "code",
   "execution_count": 582,
   "metadata": {},
   "outputs": [
    {
     "data": {
      "image/png": "[encoded data removed]",
      "text/plain": [
       "<matplotlib.figure.Figure at 0x7f98ed167810>"
      ]
     },
     "metadata": {},
     "output_type": "display_data"
    }
   ],
   "source": [
    "plt.close()\n",
    "plt.plot(trajectory[:,0],trajectory[:,1],'.',label='trajectory')\n",
    "\n",
    "# npoints = np.round(0.21*len(trajectory))\n",
    "# plt.plot(interpolate_polyline(trajectory,npoints)[:,0],interpolate_polyline(trajectory,npoints)[:,1],label='ip')\n",
    "# window = 2\n",
    "# plt.plot(scipy.ndimage.gaussian_filter(trajectory,window)[:,0],scipy.ndimage.gaussian_filter(trajectory,window)[:,1],label='Gaussian')\n",
    "# plt.imshow(img,extent=[0, img.shape[1], 0, img.shape[0]])\n",
    "plt.plot(savgol(trajectory[:,0],20,5),savgol(trajectory[:,1],20,5),label='savgol',  linewidth=5, color='firebrick')\n",
    "# plt.plot(pure_traj[:,0],pure_traj[:,1],label='trajectory')\n",
    "plt.legend()\n",
    "# img = imread('data/map.jpg')\n",
    "\n",
    "plt.show()"
   ]
  },
  {
   "cell_type": "code",
   "execution_count": 570,
   "metadata": {},
   "outputs": [
    {
     "name": "stdout",
     "output_type": "stream",
     "text": [
      "(1541, 1197, 3)\n"
     ]
    },
    {
     "data": {
      "image/png": "[encoded data removed]",
      "text/plain": [
       "<matplotlib.figure.Figure at 0x7f98ed08f5d0>"
      ]
     },
     "metadata": {},
     "output_type": "display_data"
    }
   ],
   "source": [
    "fig, ax = plt.subplots()\n",
    "x = range(300)\n",
    "print img.shape\n",
    "ax.imshow(img, extent=[0, img.shape[1], 0, img.shape[0]])\n",
    "ax.plot(x, x, '--', linewidth=5, color='firebrick')\n",
    "plt.show()"
   ]
  },
  {
   "cell_type": "code",
   "execution_count": null,
   "metadata": {
    "collapsed": true
   },
   "outputs": [],
   "source": []
  },
  {
   "cell_type": "code",
   "execution_count": 76,
   "metadata": {
    "collapsed": true
   },
   "outputs": [],
   "source": [
    "obj = GPS()"
   ]
  },
  {
   "cell_type": "code",
   "execution_count": 11,
   "metadata": {
    "collapsed": true
   },
   "outputs": [],
   "source": [
    "obj.add_point(0.2,0.3,0.2)"
   ]
  },
  {
   "cell_type": "code",
   "execution_count": 16,
   "metadata": {},
   "outputs": [
    {
     "name": "stdout",
     "output_type": "stream",
     "text": [
      "True\n"
     ]
    }
   ],
   "source": [
    "if 0.2:\n",
    "    print(True)"
   ]
  },
  {
   "cell_type": "code",
   "execution_count": null,
   "metadata": {
    "collapsed": true
   },
   "outputs": [],
   "source": []
  },
  {
   "cell_type": "code",
   "execution_count": null,
   "metadata": {
    "collapsed": true
   },
   "outputs": [],
   "source": []
  },
  {
   "cell_type": "code",
   "execution_count": null,
   "metadata": {
    "collapsed": true
   },
   "outputs": [],
   "source": []
  },
  {
   "cell_type": "code",
   "execution_count": null,
   "metadata": {
    "collapsed": true
   },
   "outputs": [],
   "source": []
  },
  {
   "cell_type": "code",
   "execution_count": null,
   "metadata": {
    "collapsed": true
   },
   "outputs": [],
   "source": []
  }
 ],
 "metadata": {
  "kernelspec": {
   "display_name": "Python 2",
   "language": "python",
   "name": "python2"
  },
  "language_info": {
   "codemirror_mode": {
    "name": "ipython",
    "version": 2
   },
   "file_extension": ".py",
   "mimetype": "text/x-python",
   "name": "python",
   "nbconvert_exporter": "python",
   "pygments_lexer": "ipython2",
   "version": "2.7.13"
  }
 },
 "nbformat": 4,
 "nbformat_minor": 2
}
