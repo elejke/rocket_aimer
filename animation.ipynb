{
 "cells": [
  {
   "cell_type": "code",
   "execution_count": 3,
   "metadata": {},
   "outputs": [
    {
     "name": "stdout",
     "output_type": "stream",
     "text": [
      "Using matplotlib backend: TkAgg\n",
      "Populating the interactive namespace from numpy and matplotlib\n"
     ]
    }
   ],
   "source": [
    "%pylab"
   ]
  },
  {
   "cell_type": "code",
   "execution_count": 1,
   "metadata": {},
   "outputs": [
    {
     "name": "stdout",
     "output_type": "stream",
     "text": [
      "Using matplotlib backend: TkAgg\n",
      "Populating the interactive namespace from numpy and matplotlib\n"
     ]
    }
   ],
   "source": [
    "# \"\"\"\n",
    "# A simple example of an animated plot\n",
    "# \"\"\"\n",
    "# %matplotlib inline\n",
    "import numpy as np\n",
    "import matplotlib.pyplot as plt\n",
    "import matplotlib.animation as animation\n",
    "\n",
    "fig, ax = plt.subplots()\n",
    "\n",
    "x = np.arange(0, 2*np.pi, 0.01)\n",
    "line, = ax.plot(x, np.sin(x))\n",
    "\n",
    "\n",
    "def animate(i):\n",
    "    line.set_ydata(np.sin(x + i / 10.0))  # update the data\n",
    "    return line,\n",
    "\n",
    "\n",
    "# Init only required for blitting to give a clean slate.\n",
    "def init():\n",
    "    line.set_ydata(np.ma.array(x, mask=True))\n",
    "    return line,\n",
    "\n",
    "ani = animation.FuncAnimation(fig, animate, np.arange(1, 200), init_func=init,\n",
    "                              interval=25, blit=True)\n",
    "plt.show()"
   ]
  },
  {
   "cell_type": "code",
   "execution_count": 7,
   "metadata": {},
   "outputs": [
    {
     "name": "stdout",
     "output_type": "stream",
     "text": [
      "('click', <matplotlib.backend_bases.MouseEvent object at 0x7f71892c6810>)\n",
      "('click', <matplotlib.backend_bases.MouseEvent object at 0x7f718c8b7dd0>)\n",
      "('click', <matplotlib.backend_bases.MouseEvent object at 0x7f718c975b50>)\n",
      "('click', <matplotlib.backend_bases.MouseEvent object at 0x7f718c8b7dd0>)\n",
      "('click', <matplotlib.backend_bases.MouseEvent object at 0x7f718c8b7dd0>)\n",
      "('click', <matplotlib.backend_bases.MouseEvent object at 0x7f718c8b7dd0>)\n",
      "('click', <matplotlib.backend_bases.MouseEvent object at 0x7f71892ec4d0>)\n",
      "('click', <matplotlib.backend_bases.MouseEvent object at 0x7f718c8b7dd0>)\n",
      "('click', <matplotlib.backend_bases.MouseEvent object at 0x7f718c97f0d0>)\n",
      "('click', <matplotlib.backend_bases.MouseEvent object at 0x7f71892ec4d0>)\n",
      "('click', <matplotlib.backend_bases.MouseEvent object at 0x7f718c8b7dd0>)\n",
      "('click', <matplotlib.backend_bases.MouseEvent object at 0x7f71892ec4d0>)\n",
      "('click', <matplotlib.backend_bases.MouseEvent object at 0x7f718c97f0d0>)\n",
      "('click', <matplotlib.backend_bases.MouseEvent object at 0x7f718c8b7dd0>)\n",
      "('click', <matplotlib.backend_bases.MouseEvent object at 0x7f718c975790>)\n",
      "('click', <matplotlib.backend_bases.MouseEvent object at 0x7f71b3497ad0>)\n",
      "('click', <matplotlib.backend_bases.MouseEvent object at 0x7f718c9d7590>)\n",
      "('click', <matplotlib.backend_bases.MouseEvent object at 0x7f718c8b7dd0>)\n",
      "('click', <matplotlib.backend_bases.MouseEvent object at 0x7f718c8b7dd0>)\n",
      "('click', <matplotlib.backend_bases.MouseEvent object at 0x7f71893aeb90>)\n",
      "('click', <matplotlib.backend_bases.MouseEvent object at 0x7f7189211e90>)\n",
      "('click', <matplotlib.backend_bases.MouseEvent object at 0x7f718c8b7dd0>)\n",
      "('click', <matplotlib.backend_bases.MouseEvent object at 0x7f718cc9ec10>)\n",
      "('click', <matplotlib.backend_bases.MouseEvent object at 0x7f718c8b7dd0>)\n",
      "('click', <matplotlib.backend_bases.MouseEvent object at 0x7f718c8b7dd0>)\n",
      "('click', <matplotlib.backend_bases.MouseEvent object at 0x7f71893aeb90>)\n",
      "('click', <matplotlib.backend_bases.MouseEvent object at 0x7f718c9dd510>)\n",
      "('click', <matplotlib.backend_bases.MouseEvent object at 0x7f7189272350>)\n",
      "('click', <matplotlib.backend_bases.MouseEvent object at 0x7f7189272350>)\n",
      "('click', <matplotlib.backend_bases.MouseEvent object at 0x7f718c9ddc10>)\n",
      "('click', <matplotlib.backend_bases.MouseEvent object at 0x7f7189272410>)\n",
      "('click', <matplotlib.backend_bases.MouseEvent object at 0x7f718ccb1350>)\n",
      "('click', <matplotlib.backend_bases.MouseEvent object at 0x7f718ccb1350>)\n",
      "('click', <matplotlib.backend_bases.MouseEvent object at 0x7f718c9c6d50>)\n",
      "('click', <matplotlib.backend_bases.MouseEvent object at 0x7f718c9148d0>)\n",
      "('click', <matplotlib.backend_bases.MouseEvent object at 0x7f718cc9ec10>)\n",
      "('click', <matplotlib.backend_bases.MouseEvent object at 0x7f718cc9ec10>)\n",
      "('click', <matplotlib.backend_bases.MouseEvent object at 0x7f718c914450>)\n",
      "('click', <matplotlib.backend_bases.MouseEvent object at 0x7f718c95d650>)\n",
      "('click', <matplotlib.backend_bases.MouseEvent object at 0x7f718c95d650>)\n",
      "('click', <matplotlib.backend_bases.MouseEvent object at 0x7f718c95d4d0>)\n",
      "('click', <matplotlib.backend_bases.MouseEvent object at 0x7f7189211f90>)\n",
      "('click', <matplotlib.backend_bases.MouseEvent object at 0x7f7189211f90>)\n",
      "('click', <matplotlib.backend_bases.MouseEvent object at 0x7f7189211f90>)\n",
      "('click', <matplotlib.backend_bases.MouseEvent object at 0x7f7189272350>)\n",
      "('click', <matplotlib.backend_bases.MouseEvent object at 0x7f71b3497ad0>)\n",
      "('click', <matplotlib.backend_bases.MouseEvent object at 0x7f71b3497ad0>)\n",
      "('click', <matplotlib.backend_bases.MouseEvent object at 0x7f71b3497ad0>)\n",
      "('click', <matplotlib.backend_bases.MouseEvent object at 0x7f718c9dd9d0>)\n",
      "('click', <matplotlib.backend_bases.MouseEvent object at 0x7f718c9d7cd0>)\n",
      "('click', <matplotlib.backend_bases.MouseEvent object at 0x7f718c953710>)\n",
      "('click', <matplotlib.backend_bases.MouseEvent object at 0x7f718c9fef10>)\n",
      "('click', <matplotlib.backend_bases.MouseEvent object at 0x7f7189272350>)\n",
      "('click', <matplotlib.backend_bases.MouseEvent object at 0x7f7189272350>)\n",
      "('click', <matplotlib.backend_bases.MouseEvent object at 0x7f7189272350>)\n",
      "('click', <matplotlib.backend_bases.MouseEvent object at 0x7f71893aec90>)\n",
      "('click', <matplotlib.backend_bases.MouseEvent object at 0x7f718c975bd0>)\n",
      "('click', <matplotlib.backend_bases.MouseEvent object at 0x7f718c975bd0>)\n",
      "('click', <matplotlib.backend_bases.MouseEvent object at 0x7f7189272350>)\n",
      "('click', <matplotlib.backend_bases.MouseEvent object at 0x7f718c9dda10>)\n",
      "('click', <matplotlib.backend_bases.MouseEvent object at 0x7f718c9dda10>)\n",
      "('click', <matplotlib.backend_bases.MouseEvent object at 0x7f71892faf10>)\n",
      "('click', <matplotlib.backend_bases.MouseEvent object at 0x7f7189272350>)\n",
      "('click', <matplotlib.backend_bases.MouseEvent object at 0x7f7189281d90>)\n"
     ]
    }
   ],
   "source": [
    "import pylab\n",
    "from time import sleep\n",
    "from matplotlib import pyplot as plt\n",
    "\n",
    "class LineBuilder:\n",
    "    def __init__(self, line):\n",
    "        self.line = line\n",
    "        self.xs = list(line.get_xdata())\n",
    "        self.ys = list(line.get_ydata())\n",
    "        self.cid = line.figure.canvas.mpl_connect('button_press_event', self)\n",
    "\n",
    "    def __call__(self, event):\n",
    "        print('click', event)\n",
    "        if event.inaxes != self.line.axes: return\n",
    "        #for i in range(100):\n",
    "        #sleep(2)\n",
    "        self.xs.append(event.xdata)\n",
    "        self.ys.append(event.ydata)\n",
    "        self.line.set_data(self.xs, self.ys)\n",
    "        self.line.figure.canvas.draw()\n",
    "\n",
    "fig = plt.figure()\n",
    "ax = fig.add_subplot(111)\n",
    "ax.set_title('click to build line segments')\n",
    "line, = ax.plot([0], [0])  # empty line\n",
    "linebuilder = LineBuilder(line)\n",
    "\n",
    "pylab.show()"
   ]
  },
  {
   "cell_type": "code",
   "execution_count": null,
   "metadata": {
    "collapsed": true
   },
   "outputs": [],
   "source": []
  }
 ],
 "metadata": {
  "kernelspec": {
   "display_name": "Python 2",
   "language": "python",
   "name": "python2"
  },
  "language_info": {
   "codemirror_mode": {
    "name": "ipython",
    "version": 2
   },
   "file_extension": ".py",
   "mimetype": "text/x-python",
   "name": "python",
   "nbconvert_exporter": "python",
   "pygments_lexer": "ipython2",
   "version": "2.7.13"
  }
 },
 "nbformat": 4,
 "nbformat_minor": 2
}
