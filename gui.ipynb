{
 "cells": [
  {
   "cell_type": "code",
   "execution_count": 3,
   "metadata": {},
   "outputs": [],
   "source": [
    "\"\"\"\n",
    "show how to add a matplotlib FigureCanvasGTK or FigureCanvasGTKAgg widget and\n",
    "a toolbar to a gtk.Window\n",
    "\"\"\"\n",
    "import gtk\n",
    "\n",
    "from matplotlib.figure import Figure\n",
    "from numpy import arange, sin, pi\n",
    "\n",
    "# uncomment to select /GTK/GTKAgg/GTKCairo\n",
    "#from matplotlib.backends.backend_gtk import FigureCanvasGTK as FigureCanvas\n",
    "from matplotlib.backends.backend_gtkagg import FigureCanvasGTKAgg as FigureCanvas\n",
    "#from matplotlib.backends.backend_gtkcairo import FigureCanvasGTKCairo as FigureCanvas\n",
    "\n",
    "# or NavigationToolbar for classic\n",
    "#from matplotlib.backends.backend_gtk import NavigationToolbar2GTK as NavigationToolbar\n",
    "from matplotlib.backends.backend_gtkagg import NavigationToolbar2GTKAgg as NavigationToolbar\n",
    "\n",
    "# implement the default mpl key bindings\n",
    "from matplotlib.backend_bases import key_press_handler\n",
    "\n",
    "win = gtk.Window()\n",
    "win.connect(\"destroy\", lambda x: gtk.main_quit())\n",
    "win.set_default_size(400, 300)\n",
    "win.set_title(\"Embedding in GTK\")\n",
    "\n",
    "vbox = gtk.VBox()\n",
    "win.add(vbox)\n",
    "\n",
    "fig = Figure(figsize=(5, 4), dpi=100)\n",
    "ax = fig.add_subplot(111)\n",
    "t = arange(0.0, 3.0, 0.01)\n",
    "s = sin(2*pi*t)\n",
    "\n",
    "ax.plot(t, s)\n",
    "\n",
    "\n",
    "canvas = FigureCanvas(fig)  # a gtk.DrawingArea\n",
    "vbox.pack_start(canvas)\n",
    "toolbar = NavigationToolbar(canvas, win)\n",
    "vbox.pack_start(toolbar, False, False)\n",
    "\n",
    "\n",
    "def on_key_event(event):\n",
    "    print('you pressed %s' % event.x, event.y)\n",
    "    key_press_handler(event, canvas, toolbar)\n",
    "\n",
    "canvas.mpl_connect('key_press_event', on_key_event)\n",
    "\n",
    "win.show_all()\n",
    "gtk.main()"
   ]
  },
  {
   "cell_type": "code",
   "execution_count": null,
   "metadata": {
    "collapsed": true
   },
   "outputs": [],
   "source": [
    "from matplotlib.backend_bases import "
   ]
  },
  {
   "cell_type": "markdown",
   "metadata": {},
   "source": [
    "# QED"
   ]
  },
  {
   "cell_type": "code",
   "execution_count": 2,
   "metadata": {
    "collapsed": true
   },
   "outputs": [],
   "source": [
    "import pycppqed as qed"
   ]
  },
  {
   "cell_type": "code",
   "execution_count": 3,
   "metadata": {
    "collapsed": true
   },
   "outputs": [],
   "source": [
    "g = qed.initialconditions.gaussian"
   ]
  },
  {
   "cell_type": "code",
   "execution_count": 4,
   "metadata": {},
   "outputs": [
    {
     "name": "stdout",
     "output_type": "stream",
     "text": [
      "Warning: Sigma is maybe too small.\n"
     ]
    },
    {
     "name": "stderr",
     "output_type": "stream",
     "text": [
      "/usr/local/lib/python2.7/dist-packages/pycppqed/initialconditions.py:60: RuntimeWarning: invalid value encountered in sqrt\n",
      "  Norm = 1/(2*numpy.pi)**(1./4)/numpy.sqrt(sigma)\n"
     ]
    },
    {
     "name": "stdout",
     "output_type": "stream",
     "text": [
      "Warning: Sigma is maybe too big.\n",
      "Warning: Sigma is maybe too small.\n",
      "Warning: Sigma is maybe too big.\n",
      "Warning: Sigma is maybe too small.\n",
      "Warning: Sigma is maybe too big.\n",
      "Warning: Sigma is maybe too small.\n",
      "Warning: Sigma is maybe too big.\n",
      "Warning: Sigma is maybe too small.\n",
      "Warning: Sigma is maybe too big.\n",
      "Warning: Sigma is maybe too small.\n",
      "Warning: Sigma is maybe too big.\n",
      "Warning: Sigma is maybe too small.\n",
      "Warning: Sigma is maybe too big.\n",
      "Warning: Sigma is maybe too small.\n",
      "Warning: Sigma is maybe too big.\n",
      "Warning: Sigma is maybe too small.\n",
      "Warning: Sigma is maybe too big.\n",
      "Warning: Sigma is maybe too small.\n",
      "Warning: Sigma is maybe too big.\n",
      "Warning: Sigma is maybe too small.\n",
      "Warning: Sigma is maybe too big.\n",
      "Warning: Sigma is maybe too small.\n",
      "Warning: Sigma is maybe too big.\n",
      "Warning: Sigma is maybe too small.\n",
      "Warning: Sigma is maybe too big.\n",
      "Warning: Sigma is maybe too small.\n",
      "Warning: Sigma is maybe too big.\n",
      "Warning: Sigma is maybe too small.\n",
      "Warning: Sigma is maybe too big.\n",
      "Warning: Sigma is maybe too small.\n",
      "Warning: Sigma is maybe too big.\n",
      "Warning: Sigma is maybe too small.\n",
      "Warning: Sigma is maybe too big.\n",
      "Warning: Sigma is maybe too small.\n",
      "Warning: Sigma is maybe too big.\n",
      "Warning: Sigma is maybe too small.\n",
      "Warning: Sigma is maybe too big.\n",
      "Warning: Sigma is maybe too small.\n",
      "Warning: Sigma is maybe too big.\n",
      "Warning: Sigma is maybe too small.\n",
      "Warning: Sigma is maybe too big.\n",
      "Warning: Sigma is maybe too small.\n",
      "Warning: Sigma is maybe too big.\n",
      "Warning: Sigma is maybe too small.\n",
      "Warning: Sigma is maybe too big.\n",
      "Warning: Sigma is maybe too small.\n",
      "Warning: Sigma is maybe too small.\n",
      "Warning: Sigma is maybe too small.\n",
      "Warning: Sigma is maybe too small.\n",
      "Warning: Sigma is maybe too small.\n",
      "Warning: Sigma is maybe too small.\n",
      "Warning: Sigma is maybe too small.\n",
      "Warning: Sigma is maybe too small.\n",
      "Warning: Sigma is maybe too small.\n",
      "Warning: Sigma is maybe too small.\n",
      "Warning: Sigma is maybe too small.\n",
      "Warning: Sigma is maybe too small.\n",
      "Warning: Sigma is maybe too small.\n",
      "Warning: Sigma is maybe too small.\n",
      "Warning: Sigma is maybe too small.\n",
      "Warning: Sigma is maybe too small.\n",
      "Warning: Sigma is maybe too small.\n",
      "Warning: Sigma is maybe too small.\n",
      "Warning: Sigma is maybe too small.\n",
      "Warning: Sigma is maybe too big.\n",
      "Warning: Sigma is maybe too small.\n",
      "Warning: Sigma is maybe too big.\n",
      "Warning: Sigma is maybe too small.\n",
      "Warning: Sigma is maybe too big.\n",
      "Warning: Sigma is maybe too small.\n",
      "Warning: Sigma is maybe too big.\n",
      "Warning: Sigma is maybe too small.\n",
      "Warning: Sigma is maybe too big.\n",
      "Warning: Sigma is maybe too small.\n",
      "Warning: Sigma is maybe too big.\n",
      "Warning: Sigma is maybe too small.\n",
      "Warning: Sigma is maybe too big.\n",
      "Warning: Sigma is maybe too small.\n",
      "Warning: Sigma is maybe too big.\n",
      "Warning: Sigma is maybe too small.\n",
      "Warning: Sigma is maybe too big.\n",
      "Warning: Sigma is maybe too small.\n",
      "Warning: Sigma is maybe too big.\n",
      "Warning: Sigma is maybe too small.\n",
      "Warning: Sigma is maybe too big.\n",
      "Warning: Sigma is maybe too small.\n",
      "Warning: Sigma is maybe too big.\n",
      "Warning: Sigma is maybe too small.\n",
      "Warning: Sigma is maybe too big.\n",
      "Warning: Sigma is maybe too small.\n",
      "Warning: Sigma is maybe too big.\n",
      "Warning: Sigma is maybe too small.\n",
      "Warning: Sigma is maybe too big.\n",
      "Warning: Sigma is maybe too small.\n",
      "Warning: Sigma is maybe too big.\n",
      "Warning: Sigma is maybe too small.\n",
      "Warning: Sigma is maybe too big.\n",
      "Warning: Sigma is maybe too small.\n",
      "Warning: Sigma is maybe too big.\n",
      "Warning: Sigma is maybe too small.\n",
      "Warning: Sigma is maybe too big.\n",
      "Warning: Sigma is maybe too small.\n",
      "Warning: Sigma is maybe too big.\n",
      "Warning: Sigma is maybe too small.\n",
      "Warning: Sigma is maybe too big.\n",
      "Warning: Sigma is maybe too small.\n",
      "Warning: Sigma is maybe too big.\n",
      "Warning: Sigma is maybe too small.\n"
     ]
    },
    {
     "ename": "AttributeError",
     "evalue": "'list' object has no attribute 'animate'",
     "output_type": "error",
     "traceback": [
      "\u001b[0;31m---------------------------------------------------------------------------\u001b[0m",
      "\u001b[0;31mAttributeError\u001b[0m                            Traceback (most recent call last)",
      "\u001b[0;32m<ipython-input-4-105e433551d3>\u001b[0m in \u001b[0;36m<module>\u001b[0;34m()\u001b[0m\n\u001b[1;32m      3\u001b[0m \u001b[0mg\u001b[0m \u001b[0;34m=\u001b[0m \u001b[0mqed\u001b[0m\u001b[0;34m.\u001b[0m\u001b[0minitialconditions\u001b[0m\u001b[0;34m.\u001b[0m\u001b[0mgaussian\u001b[0m\u001b[0;34m\u001b[0m\u001b[0m\n\u001b[1;32m      4\u001b[0m \u001b[0msvt\u001b[0m \u001b[0;34m=\u001b[0m \u001b[0;34m[\u001b[0m\u001b[0mg\u001b[0m\u001b[0;34m(\u001b[0m\u001b[0msigma\u001b[0m\u001b[0;34m=\u001b[0m\u001b[0mt\u001b[0m\u001b[0;34m)\u001b[0m \u001b[0;34m^\u001b[0m \u001b[0mg\u001b[0m\u001b[0;34m(\u001b[0m\u001b[0msigma\u001b[0m\u001b[0;34m=\u001b[0m\u001b[0;36m0.15\u001b[0m\u001b[0;34m-\u001b[0m\u001b[0mt\u001b[0m\u001b[0;34m)\u001b[0m \u001b[0;32mfor\u001b[0m \u001b[0mt\u001b[0m \u001b[0;32min\u001b[0m \u001b[0mtime\u001b[0m\u001b[0;34m]\u001b[0m\u001b[0;34m\u001b[0m\u001b[0m\n\u001b[0;32m----> 5\u001b[0;31m \u001b[0msvt\u001b[0m\u001b[0;34m.\u001b[0m\u001b[0manimate\u001b[0m\u001b[0;34m(\u001b[0m\u001b[0;34m)\u001b[0m\u001b[0;34m\u001b[0m\u001b[0m\n\u001b[0m",
      "\u001b[0;31mAttributeError\u001b[0m: 'list' object has no attribute 'animate'"
     ]
    }
   ],
   "source": [
    "import numpy as np\n",
    "time = np.linspace(-np.pi, np.pi, 2**6)\n",
    "g = qed.initialconditions.gaussian\n",
    "svt = [g(sigma=t) ^ g(sigma=0.15-t) for t in time]\n",
    "svt.animate()"
   ]
  },
  {
   "cell_type": "code",
   "execution_count": null,
   "metadata": {
    "collapsed": true
   },
   "outputs": [],
   "source": []
  }
 ],
 "metadata": {
  "kernelspec": {
   "display_name": "Python 2",
   "language": "python",
   "name": "python2"
  },
  "language_info": {
   "codemirror_mode": {
    "name": "ipython",
    "version": 2
   },
   "file_extension": ".py",
   "mimetype": "text/x-python",
   "name": "python",
   "nbconvert_exporter": "python",
   "pygments_lexer": "ipython2",
   "version": "2.7.13"
  }
 },
 "nbformat": 4,
 "nbformat_minor": 2
}
